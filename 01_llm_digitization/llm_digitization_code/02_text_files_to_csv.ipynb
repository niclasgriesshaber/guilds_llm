{
 "cells": [
  {
   "cell_type": "markdown",
   "metadata": {},
   "source": [
    "# Import libraries"
   ]
  },
  {
   "cell_type": "code",
   "execution_count": 1,
   "metadata": {},
   "outputs": [],
   "source": [
    "# Import libraries\n",
    "import os\n",
    "import csv"
   ]
  },
  {
   "cell_type": "markdown",
   "metadata": {},
   "source": [
    "# Converting txt-files to csv-dataset\n",
    "This is a very basic script to merge multiple text files into a csv-dataset. In addition, we also automated the extraction of the year and guild name based on the folder structure. Running the code below generates a CSV dataset that includes all guild regulations, along with the corresponding guild names and their year of issuance. Please first check if all paths are set up correctly by running the next cell."
   ]
  },
  {
   "cell_type": "code",
   "execution_count": 2,
   "metadata": {},
   "outputs": [
    {
     "name": "stdout",
     "output_type": "stream",
     "text": [
      "Current directory: /Users/niclasgriesshaber/Desktop/guilds-llm/01_llm_digitization/llm_digitization_code\n",
      "Parent directory: /Users/niclasgriesshaber/Desktop/guilds-llm/01_llm_digitization/llm_digitization_data/regulations_text_data\n",
      "CSV output file path: /Users/niclasgriesshaber/Desktop/guilds-llm/datasets/regulations_dataset.csv\n"
     ]
    }
   ],
   "source": [
    "# Path to current directory\n",
    "current_directory = os.getcwd()\n",
    "\n",
    "# Path to the parent directory containing month folders\n",
    "parent_directory = os.path.normpath(os.path.join(current_directory, '../llm_digitization_data/regulations_text_data'))\n",
    "\n",
    "# CSV file to write the data to\n",
    "csv_file_path = os.path.normpath(os.path.join(current_directory, '../../datasets/regulations_dataset.csv'))\n",
    "\n",
    "# Print the paths\n",
    "print(f'Current directory: {current_directory}')\n",
    "print(f'Parent directory: {parent_directory}')\n",
    "print(f'CSV output file path: {csv_file_path}')"
   ]
  },
  {
   "cell_type": "code",
   "execution_count": 3,
   "metadata": {},
   "outputs": [
    {
     "name": "stdout",
     "output_type": "stream",
     "text": [
      "Data extraction complete. CSV file created at: /Users/niclasgriesshaber/Desktop/guilds-llm/datasets/regulations_dataset.csv\n"
     ]
    }
   ],
   "source": [
    "# Function to extract year and guild name from the file name. The file name is always \"[year]_[guild_name].txt\"\n",
    "def extract_year_and_guild(filename):\n",
    "    # Split the filename on '_' and remove the file extension\n",
    "    parts = filename.split('.')[0].split('_')\n",
    "    year = parts[0]\n",
    "    guild = parts[1]\n",
    "    return year, guild\n",
    "\n",
    "# Open the CSV file for writing\n",
    "with open(csv_file_path, mode='w', newline='', encoding='utf-8') as file:\n",
    "    writer = csv.writer(file)\n",
    "    # Write the header\n",
    "    writer.writerow(['country', 'year', 'guild', 'text'])\n",
    "\n",
    "    # Traverse through each folder and file\n",
    "    for folder_name in os.listdir(parent_directory):\n",
    "        folder_path = os.path.join(parent_directory, folder_name)\n",
    "        if os.path.isdir(folder_path):\n",
    "            for filename in os.listdir(folder_path):\n",
    "                if filename.endswith('.txt'):\n",
    "                    file_path = os.path.join(folder_path, filename)\n",
    "                    # Extract the year and guild from the file name\n",
    "                    year, guild = extract_year_and_guild(filename)\n",
    "                    # Read the content of the file\n",
    "                    with open(file_path, 'r', encoding='utf-8') as txt_file:\n",
    "                        text_content = txt_file.read()\n",
    "                        # Write the year, guild, and text to the CSV file\n",
    "                        writer.writerow([folder_name, year, guild, text_content])\n",
    "\n",
    "print(\"Data extraction complete. CSV file created at:\", csv_file_path)"
   ]
  },
  {
   "cell_type": "code",
   "execution_count": null,
   "metadata": {},
   "outputs": [],
   "source": []
  }
 ],
 "metadata": {
  "kernelspec": {
   "display_name": "guilds-nlp-env",
   "language": "python",
   "name": "python3"
  },
  "language_info": {
   "codemirror_mode": {
    "name": "ipython",
    "version": 3
   },
   "file_extension": ".py",
   "mimetype": "text/x-python",
   "name": "python",
   "nbconvert_exporter": "python",
   "pygments_lexer": "ipython3",
   "version": "3.9.18"
  }
 },
 "nbformat": 4,
 "nbformat_minor": 2
}
