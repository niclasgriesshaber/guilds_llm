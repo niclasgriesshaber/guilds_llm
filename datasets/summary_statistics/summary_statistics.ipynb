{
 "cells": [
  {
   "cell_type": "markdown",
   "metadata": {},
   "source": [
    "# Import libraries"
   ]
  },
  {
   "cell_type": "code",
   "execution_count": 1,
   "metadata": {},
   "outputs": [],
   "source": [
    "import pandas as pd\n",
    "import numpy as np\n",
    "import os\n",
    "import re\n",
    "import nltk\n",
    "\n",
    "from scipy import stats"
   ]
  },
  {
   "cell_type": "markdown",
   "metadata": {},
   "source": [
    "# Load classifications dataset"
   ]
  },
  {
   "cell_type": "code",
   "execution_count": 2,
   "metadata": {},
   "outputs": [
    {
     "name": "stdout",
     "output_type": "stream",
     "text": [
      "Current directory: /Users/niclasgriesshaber/Desktop/guilds-llm/datasets/summary_statistics\n",
      "Path to llm_classification_results.csv: /Users/niclasgriesshaber/Desktop/guilds-llm/datasets/regulations_dataset.csv\n"
     ]
    }
   ],
   "source": [
    "# Getting path of current working directory\n",
    "current_directory = os.getcwd()\n",
    "print(f\"Current directory: {current_directory}\")\n",
    "\n",
    "# Path to regulations_dataset.csv\n",
    "regulations_dataset_path = os.path.normpath(os.path.join(current_directory, '..', 'regulations_dataset.csv'))\n",
    "print(f\"Path to llm_classification_results.csv: {regulations_dataset_path}\")"
   ]
  },
  {
   "cell_type": "code",
   "execution_count": 3,
   "metadata": {},
   "outputs": [],
   "source": [
    "# Load regulations dataset for general analysis\n",
    "df = pd.read_csv(regulations_dataset_path)"
   ]
  },
  {
   "cell_type": "code",
   "execution_count": 4,
   "metadata": {},
   "outputs": [
    {
     "data": {
      "text/html": [
       "<div>\n",
       "<style scoped>\n",
       "    .dataframe tbody tr th:only-of-type {\n",
       "        vertical-align: middle;\n",
       "    }\n",
       "\n",
       "    .dataframe tbody tr th {\n",
       "        vertical-align: top;\n",
       "    }\n",
       "\n",
       "    .dataframe thead th {\n",
       "        text-align: right;\n",
       "    }\n",
       "</style>\n",
       "<table border=\"1\" class=\"dataframe\">\n",
       "  <thead>\n",
       "    <tr style=\"text-align: right;\">\n",
       "      <th></th>\n",
       "      <th>country</th>\n",
       "      <th>year</th>\n",
       "      <th>guild</th>\n",
       "      <th>text</th>\n",
       "    </tr>\n",
       "  </thead>\n",
       "  <tbody>\n",
       "    <tr>\n",
       "      <th>0</th>\n",
       "      <td>mexico</td>\n",
       "      <td>1757</td>\n",
       "      <td>cotton-weavers</td>\n",
       "      <td>1.—Ordenanza primera. Primeramente, que las ma...</td>\n",
       "    </tr>\n",
       "    <tr>\n",
       "      <th>1</th>\n",
       "      <td>mexico</td>\n",
       "      <td>1620</td>\n",
       "      <td>bakers</td>\n",
       "      <td>1.—Primeramente, antes todas cosas, todos los ...</td>\n",
       "    </tr>\n",
       "    <tr>\n",
       "      <th>2</th>\n",
       "      <td>mexico</td>\n",
       "      <td>1592</td>\n",
       "      <td>cloth-makers</td>\n",
       "      <td>1.— Que cualquiera persona de cualquiera calid...</td>\n",
       "    </tr>\n",
       "    <tr>\n",
       "      <th>3</th>\n",
       "      <td>mexico</td>\n",
       "      <td>1605</td>\n",
       "      <td>cloth-finishers</td>\n",
       "      <td>Primeramente que al principio de cada un año s...</td>\n",
       "    </tr>\n",
       "    <tr>\n",
       "      <th>4</th>\n",
       "      <td>mexico</td>\n",
       "      <td>1706</td>\n",
       "      <td>tallow</td>\n",
       "      <td>Primeramente, que en cada un año por principio...</td>\n",
       "    </tr>\n",
       "  </tbody>\n",
       "</table>\n",
       "</div>"
      ],
      "text/plain": [
       "  country  year            guild  \\\n",
       "0  mexico  1757   cotton-weavers   \n",
       "1  mexico  1620           bakers   \n",
       "2  mexico  1592     cloth-makers   \n",
       "3  mexico  1605  cloth-finishers   \n",
       "4  mexico  1706           tallow   \n",
       "\n",
       "                                                text  \n",
       "0  1.—Ordenanza primera. Primeramente, que las ma...  \n",
       "1  1.—Primeramente, antes todas cosas, todos los ...  \n",
       "2  1.— Que cualquiera persona de cualquiera calid...  \n",
       "3  Primeramente que al principio de cada un año s...  \n",
       "4  Primeramente, que en cada un año por principio...  "
      ]
     },
     "execution_count": 4,
     "metadata": {},
     "output_type": "execute_result"
    }
   ],
   "source": [
    "df.head()"
   ]
  },
  {
   "cell_type": "markdown",
   "metadata": {},
   "source": [
    "# Clean text from LLM digitization pipeline"
   ]
  },
  {
   "cell_type": "code",
   "execution_count": 5,
   "metadata": {},
   "outputs": [],
   "source": [
    "# Function to clean the OCR text provided by the large language model\n",
    "def clean_text(text):\n",
    "    \n",
    "    # Remove line breaks\n",
    "    text_no_line_breaks = text.replace('\\n', ' ')\n",
    "\n",
    "    # Remove Arabic numeral patterns followed by a period\n",
    "    text_no_arabic_numerals = re.sub(r'\\b\\d+\\.\\s*', '', text_no_line_breaks)\n",
    "\n",
    "    # Use a regular expression to split on periods that are not part of \"etc.\" or similar abbreviations\n",
    "    sentences = re.split(r'(?<!\\betc)\\.\\s+(?=[A-Z])', text_no_arabic_numerals)\n",
    "\n",
    "    # Filter sentences with less than 4 words\n",
    "    cleaned_sentences = [sentence.strip() for sentence in sentences if len(sentence.split()) >= 4]\n",
    "    cleaned_text = '. '.join(cleaned_sentences)\n",
    "\n",
    "    return cleaned_text"
   ]
  },
  {
   "cell_type": "code",
   "execution_count": 6,
   "metadata": {},
   "outputs": [],
   "source": [
    "# Apply the function to create the new column 'cleaned_text'\n",
    "df['cleaned_text'] = df['text'].apply(clean_text)"
   ]
  },
  {
   "cell_type": "markdown",
   "metadata": {},
   "source": [
    "# Add sentences variable"
   ]
  },
  {
   "cell_type": "code",
   "execution_count": 7,
   "metadata": {},
   "outputs": [],
   "source": [
    "# Split the cleaned text into sentences\n",
    "df['sentences'] = df['cleaned_text'].apply(nltk.sent_tokenize)\n",
    "\n",
    "# Count the number of sentences in the ordinance\n",
    "df['sentence_count'] = df['sentences'].apply(lambda x: len(x))"
   ]
  },
  {
   "cell_type": "markdown",
   "metadata": {},
   "source": [
    "# Add century variable"
   ]
  },
  {
   "cell_type": "code",
   "execution_count": 8,
   "metadata": {},
   "outputs": [],
   "source": [
    "# Function to determine the century\n",
    "def determine_century(year):\n",
    "    if year == 1801:\n",
    "        return 18\n",
    "    return (year - 1) // 100 + 1"
   ]
  },
  {
   "cell_type": "code",
   "execution_count": 9,
   "metadata": {},
   "outputs": [],
   "source": [
    "# Determine the century for each year\n",
    "df['century'] = df['year'].apply(determine_century)"
   ]
  },
  {
   "cell_type": "code",
   "execution_count": 10,
   "metadata": {},
   "outputs": [
    {
     "data": {
      "text/html": [
       "<div>\n",
       "<style scoped>\n",
       "    .dataframe tbody tr th:only-of-type {\n",
       "        vertical-align: middle;\n",
       "    }\n",
       "\n",
       "    .dataframe tbody tr th {\n",
       "        vertical-align: top;\n",
       "    }\n",
       "\n",
       "    .dataframe thead th {\n",
       "        text-align: right;\n",
       "    }\n",
       "</style>\n",
       "<table border=\"1\" class=\"dataframe\">\n",
       "  <thead>\n",
       "    <tr style=\"text-align: right;\">\n",
       "      <th></th>\n",
       "      <th>country</th>\n",
       "      <th>year</th>\n",
       "      <th>guild</th>\n",
       "      <th>text</th>\n",
       "      <th>cleaned_text</th>\n",
       "      <th>sentences</th>\n",
       "      <th>sentence_count</th>\n",
       "      <th>century</th>\n",
       "    </tr>\n",
       "  </thead>\n",
       "  <tbody>\n",
       "    <tr>\n",
       "      <th>0</th>\n",
       "      <td>mexico</td>\n",
       "      <td>1757</td>\n",
       "      <td>cotton-weavers</td>\n",
       "      <td>1.—Ordenanza primera. Primeramente, que las ma...</td>\n",
       "      <td>Primeramente, que las mantas ordinarias se han...</td>\n",
       "      <td>[Primeramente, que las mantas ordinarias se ha...</td>\n",
       "      <td>40</td>\n",
       "      <td>18</td>\n",
       "    </tr>\n",
       "    <tr>\n",
       "      <th>1</th>\n",
       "      <td>mexico</td>\n",
       "      <td>1620</td>\n",
       "      <td>bakers</td>\n",
       "      <td>1.—Primeramente, antes todas cosas, todos los ...</td>\n",
       "      <td>—Primeramente, antes todas cosas, todos los pa...</td>\n",
       "      <td>[—Primeramente, antes todas cosas, todos los p...</td>\n",
       "      <td>5</td>\n",
       "      <td>17</td>\n",
       "    </tr>\n",
       "    <tr>\n",
       "      <th>2</th>\n",
       "      <td>mexico</td>\n",
       "      <td>1592</td>\n",
       "      <td>cloth-makers</td>\n",
       "      <td>1.— Que cualquiera persona de cualquiera calid...</td>\n",
       "      <td>— Que cualquiera persona de cualquiera calidad...</td>\n",
       "      <td>[— Que cualquiera persona de cualquiera calida...</td>\n",
       "      <td>5</td>\n",
       "      <td>16</td>\n",
       "    </tr>\n",
       "    <tr>\n",
       "      <th>3</th>\n",
       "      <td>mexico</td>\n",
       "      <td>1605</td>\n",
       "      <td>cloth-finishers</td>\n",
       "      <td>Primeramente que al principio de cada un año s...</td>\n",
       "      <td>Primeramente que al principio de cada un año s...</td>\n",
       "      <td>[Primeramente que al principio de cada un año ...</td>\n",
       "      <td>9</td>\n",
       "      <td>17</td>\n",
       "    </tr>\n",
       "    <tr>\n",
       "      <th>4</th>\n",
       "      <td>mexico</td>\n",
       "      <td>1706</td>\n",
       "      <td>tallow</td>\n",
       "      <td>Primeramente, que en cada un año por principio...</td>\n",
       "      <td>Primeramente, que en cada un año por principio...</td>\n",
       "      <td>[Primeramente, que en cada un año por principi...</td>\n",
       "      <td>10</td>\n",
       "      <td>18</td>\n",
       "    </tr>\n",
       "  </tbody>\n",
       "</table>\n",
       "</div>"
      ],
      "text/plain": [
       "  country  year            guild  \\\n",
       "0  mexico  1757   cotton-weavers   \n",
       "1  mexico  1620           bakers   \n",
       "2  mexico  1592     cloth-makers   \n",
       "3  mexico  1605  cloth-finishers   \n",
       "4  mexico  1706           tallow   \n",
       "\n",
       "                                                text  \\\n",
       "0  1.—Ordenanza primera. Primeramente, que las ma...   \n",
       "1  1.—Primeramente, antes todas cosas, todos los ...   \n",
       "2  1.— Que cualquiera persona de cualquiera calid...   \n",
       "3  Primeramente que al principio de cada un año s...   \n",
       "4  Primeramente, que en cada un año por principio...   \n",
       "\n",
       "                                        cleaned_text  \\\n",
       "0  Primeramente, que las mantas ordinarias se han...   \n",
       "1  —Primeramente, antes todas cosas, todos los pa...   \n",
       "2  — Que cualquiera persona de cualquiera calidad...   \n",
       "3  Primeramente que al principio de cada un año s...   \n",
       "4  Primeramente, que en cada un año por principio...   \n",
       "\n",
       "                                           sentences  sentence_count  century  \n",
       "0  [Primeramente, que las mantas ordinarias se ha...              40       18  \n",
       "1  [—Primeramente, antes todas cosas, todos los p...               5       17  \n",
       "2  [— Que cualquiera persona de cualquiera calida...               5       16  \n",
       "3  [Primeramente que al principio de cada un año ...               9       17  \n",
       "4  [Primeramente, que en cada un año por principi...              10       18  "
      ]
     },
     "execution_count": 10,
     "metadata": {},
     "output_type": "execute_result"
    }
   ],
   "source": [
    "# Check dataframe\n",
    "df.head()"
   ]
  },
  {
   "cell_type": "markdown",
   "metadata": {},
   "source": [
    "# Compute absolute word counts by country and century"
   ]
  },
  {
   "cell_type": "code",
   "execution_count": 11,
   "metadata": {},
   "outputs": [
    {
     "name": "stdout",
     "output_type": "stream",
     "text": [
      "Total number of words in the dataset: 94141\n",
      "\n",
      "Word count by century and country:\n",
      "country  mexico   peru\n",
      "century               \n",
      "16        11735   7246\n",
      "17         4845  24667\n",
      "18        18910  26738\n",
      "\n",
      "Total word count by century:\n",
      "century\n",
      "16    18981\n",
      "17    29512\n",
      "18    45648\n",
      "dtype: int64\n",
      "\n",
      "Total word count by country:\n",
      "country\n",
      "mexico    35490\n",
      "peru      58651\n",
      "dtype: int64\n"
     ]
    }
   ],
   "source": [
    "# Compute total number of words for the whole dataset\n",
    "df['word_count'] = df['cleaned_text'].str.split().str.len()\n",
    "total_words = df['word_count'].sum()\n",
    "\n",
    "print(f\"Total number of words in the dataset: {total_words}\")\n",
    "\n",
    "# Tabulate word count by century and country\n",
    "word_count_by_century_country = df.groupby(['century', 'country'])['word_count'].sum().unstack(fill_value=0)\n",
    "\n",
    "print(\"\\nWord count by century and country:\")\n",
    "print(word_count_by_century_country)\n",
    "\n",
    "# If you want to see the total for each century\n",
    "word_count_by_century = word_count_by_century_country.sum(axis=1)\n",
    "print(\"\\nTotal word count by century:\")\n",
    "print(word_count_by_century)\n",
    "\n",
    "# If you want to see the total for each country\n",
    "word_count_by_country = word_count_by_century_country.sum()\n",
    "print(\"\\nTotal word count by country:\")\n",
    "print(word_count_by_country)"
   ]
  },
  {
   "cell_type": "markdown",
   "metadata": {},
   "source": [
    "# Average word counts for the whole dataset and by country and century"
   ]
  },
  {
   "cell_type": "code",
   "execution_count": 12,
   "metadata": {},
   "outputs": [
    {
     "name": "stdout",
     "output_type": "stream",
     "text": [
      "Average word count per observation for the whole sample: 1743.35\n",
      "\n",
      "Average word count per observation by country:\n",
      "country\n",
      "mexico    1690.00000\n",
      "peru      1777.30303\n",
      "Name: word_count, dtype: float64\n",
      "\n",
      "Average word count per observation by century:\n",
      "century\n",
      "16    1460.076923\n",
      "17    1475.600000\n",
      "18    2173.714286\n",
      "Name: word_count, dtype: float64\n",
      "\n",
      "Average word count per observation by country and century:\n",
      "century           16           17        18\n",
      "country                                    \n",
      "mexico   1173.500000   807.500000  3782.000\n",
      "peru     2415.333333  1761.928571  1671.125\n"
     ]
    }
   ],
   "source": [
    "# Average word count for the whole sample\n",
    "avg_word_count_total = df['word_count'].mean()\n",
    "print(f\"Average word count per observation for the whole sample: {avg_word_count_total:.2f}\")\n",
    "\n",
    "# Average word count by country\n",
    "avg_word_count_by_country = df.groupby('country')['word_count'].mean()\n",
    "print(\"\\nAverage word count per observation by country:\")\n",
    "print(avg_word_count_by_country)\n",
    "\n",
    "# Average word count by century\n",
    "avg_word_count_by_century = df.groupby('century')['word_count'].mean()\n",
    "print(\"\\nAverage word count per observation by century:\")\n",
    "print(avg_word_count_by_century)\n",
    "\n",
    "# Average word count by both country and century\n",
    "avg_word_count_by_country_century = df.groupby(['country', 'century'])['word_count'].mean().unstack(fill_value=0)\n",
    "print(\"\\nAverage word count per observation by country and century:\")\n",
    "print(avg_word_count_by_country_century)"
   ]
  },
  {
   "cell_type": "markdown",
   "metadata": {},
   "source": [
    "# Compute word count per ordinance"
   ]
  },
  {
   "cell_type": "code",
   "execution_count": 13,
   "metadata": {},
   "outputs": [
    {
     "name": "stdout",
     "output_type": "stream",
     "text": [
      "\n",
      "Guild and Word Count for mexico:\n",
      "Guild: cotton-weavers, Word Count: 2351\n",
      "Guild: bakers, Word Count: 496\n",
      "Guild: cloth-makers, Word Count: 733\n",
      "Guild: cloth-finishers, Word Count: 1362\n",
      "Guild: tallow, Word Count: 739\n",
      "Guild: hatters, Word Count: 521\n",
      "Guild: candle-makers, Word Count: 859\n",
      "Guild: cloth-weavers, Word Count: 857\n",
      "Guild: gold, Word Count: 974\n",
      "Guild: harness-makers, Word Count: 346\n",
      "Guild: sackcloth-weavers, Word Count: 4504\n",
      "Guild: hatters, Word Count: 663\n",
      "Guild: bakers, Word Count: 925\n",
      "Guild: silk, Word Count: 1029\n",
      "Guild: tailors, Word Count: 1219\n",
      "Guild: silver-smiths, Word Count: 7464\n",
      "Guild: hatters, Word Count: 3007\n",
      "Guild: gold-weavers, Word Count: 1150\n",
      "Guild: candle-makers, Word Count: 1696\n",
      "Guild: turners, Word Count: 743\n",
      "Guild: bakers, Word Count: 3852\n",
      "\n",
      "Average word count for mexico: 1690.00\n",
      "\n",
      "Guild and Word Count for peru:\n",
      "Guild: blacksmiths, Word Count: 896\n",
      "Guild: butchers, Word Count: 827\n",
      "Guild: button-makers, Word Count: 583\n",
      "Guild: hatters, Word Count: 915\n",
      "Guild: fireworks-makers, Word Count: 1237\n",
      "Guild: cap-makers, Word Count: 2637\n",
      "Guild: bakers, Word Count: 803\n",
      "Guild: saddlers, Word Count: 2150\n",
      "Guild: silver-smiths, Word Count: 708\n",
      "Guild: silver-smiths, Word Count: 4004\n",
      "Guild: shoemakers, Word Count: 3721\n",
      "Guild: chocolate-makers, Word Count: 807\n",
      "Guild: potters, Word Count: 828\n",
      "Guild: butchers, Word Count: 1826\n",
      "Guild: dyers, Word Count: 2271\n",
      "Guild: chocolate-makers, Word Count: 798\n",
      "Guild: butchers, Word Count: 633\n",
      "Guild: rope, Word Count: 1310\n",
      "Guild: tailors, Word Count: 2059\n",
      "Guild: mattress-makers, Word Count: 4128\n",
      "Guild: tallow, Word Count: 4455\n",
      "Guild: silk-finishers, Word Count: 1652\n",
      "Guild: shoemakers, Word Count: 3019\n",
      "Guild: gold-drawers, Word Count: 1184\n",
      "Guild: tallow, Word Count: 881\n",
      "Guild: hatters, Word Count: 1466\n",
      "Guild: ribbon, Word Count: 450\n",
      "Guild: shoemakers, Word Count: 2842\n",
      "Guild: ribbon-makers, Word Count: 3109\n",
      "Guild: embroiderers, Word Count: 776\n",
      "Guild: candle-makers, Word Count: 540\n",
      "Guild: tailors, Word Count: 2862\n",
      "Guild: sword-smiths, Word Count: 2274\n",
      "\n",
      "Average word count for peru: 1777.30\n"
     ]
    }
   ],
   "source": [
    "# Function to print guild and word count for a specific country\n",
    "def print_guild_word_count(country):\n",
    "    country_df = df[df['country'] == country]\n",
    "    print(f\"\\nGuild and Word Count for {country}:\")\n",
    "    for _, row in country_df.iterrows():\n",
    "        print(f\"Guild: {row['guild']}, Word Count: {row['word_count']}\")\n",
    "    \n",
    "    # Calculate and print average word count for the country\n",
    "    avg_word_count = country_df['word_count'].mean()\n",
    "    print(f\"\\nAverage word count for {country}: {avg_word_count:.2f}\")\n",
    "\n",
    "# Print results for Mexico\n",
    "print_guild_word_count('mexico')\n",
    "\n",
    "# Print results for Peru\n",
    "print_guild_word_count('peru')"
   ]
  },
  {
   "cell_type": "markdown",
   "metadata": {},
   "source": [
    "# Check sentences in ordinance i"
   ]
  },
  {
   "cell_type": "code",
   "execution_count": 14,
   "metadata": {},
   "outputs": [
    {
     "name": "stdout",
     "output_type": "stream",
     "text": [
      "Primeramente, que las mantas ordinarias se han de tejer en veinte y cuatro lienzos, y para que queden en marco de tres cuar- tas su arán de tejer en peine de treinta y en vara, se penal al que tal contrario hiciere, de cinco pesos de oro de minas, aplicados por cuartas partes, Cámara, Ciudad, Juez y denunciador.\n",
      "—Item, que las mantas de siete ochavas, se han de tejer en peine de treinta y dos lienzos, y no de otra manera, so la dicha pena, aplicada como dicho es.\n",
      "—Item, que en los mismos peines de treinta y dos, se puedan tejer las mantas de vara de ancho.\n",
      "—Item, que los mantales, servilletas, huipiles, ceñidores y otros tejidos semejantes, se arreglen a la cuenta, marca y disposición de la manta, y siendo cosas menudas, se arreglen a de treinta, manera como decir hupilas de legítima cali- dad, ceñidores, etc., en peine de peine y dos en vara, y mienteras más fino mejor, por ser a favor del arte.\n",
      "—Item, que los chapanecos, petatillos, etc., tejan en peines de veinte y seis, en vara.\n",
      "—Item, que los llanos finos, legítimos, se tejan en la misma cuenta y peine que la manta de siete ochavas de ancho y tres varas de largo, so la dicha pena, aplicada por cuartas partes.\n",
      "—Item, que los paños, asimismo llanos, los puedan tejer y tejan en peine de treinta, en veinte y cuatro lienzos, en largo, de dos varas y tres cuartas de largo y tres cuartas de ancho, so la pena dicha al contrario hiçiere.\n",
      "—Item, que si sobre las dichas telas de los dichos paños, quisiere algún Maestro tejer chapanecos, se le permita por ser obra fina y bien acondiciona- da, de que resulta ser a favor del arte y de el común, y que vaya el tejido semejante al urdido.\n",
      "—Item, que los paños de polvos se tejan en peine de treinta en vara, en veinte y cuatro lienzos, marca de tres cuartas en cuadro.\n",
      "—Item, que se pueden tejer paños de polvos en los propios peines, de treinta en vara, en veinte lienzos, marca de dos tercias en cudrro, y sobre estos propias teles se tejan y puedan tejer paños de naijas, de rebozo, y en otros varas de largo.\n",
      "—Item, que las naguas blancas, labradas, se tejan en veinte y cuatro lienzos, en peine de treinta en vara, marca de tres cuartas de ancho, y si qui- siere el maestro en peine más fino, lo pueda hacer con pena al que de menos cuenta las tejiere como dicho es.\n",
      "—Item, que los paños de rebozo, labrados, se tejan en peine de veinte y ocho en vara, marca de tres cuartas de ancho, y de largo dos varas y tres cuartas, so la dicha pena, aplicada como dicho es.\n",
      "—Item, que se puedan tejer paños de rebozo, en cuenta de veinte lina- los, en peines de veinte y ocho en vara, de dos tercias de ancho y dos varas y media de largo.\n",
      "—Item, que de ninguna manera se puedan tejer ni tejan lana con algo- dón, habiendo división de labor a labor, advirtiendo por ahora, que se pueda tejer lana con algodón con la orden de un hilo de lana y otro de algodón, con un hucha de lana y otra de algodón, toda una pieza que apunta a puntá, sin división alguna.\n",
      "—Item, que las naguas que llama de Xilotepec, que se puedan tejer y tejan en veinte linuelos, partidos en dos mitades o en dos telas, la una de algodón, la otra de lana, y arrolladas en unos julios, tejidas en peine que co- rresponda a quedar en marca de tres cuartas, con advertencia que las fino- rias de las entreñinas, sólo se distingan en el más o menos tejido y no en otra cosa, so la dicha pena, —Ítem, que las naguas dichas ordinarias, se puedan tejer y tejan en diez y seis liñuelos, con la misma orden y disposición de las otras, e la marca de dos terecias.\n",
      "—Ítem, que sobre estas telas de naguas, que llaman de Xilotepec, como también sobre las telas de las naguas blancas labradas, se puedan tejer colchas, con claridad que también puedan urdir colchas en veinte liñuelos, tejién-dolas en peine de veinte y ocho en vara, en marca de dos terecias.\n",
      "—Ítem, que los maestros examinados y aprobados, han de tener precisa y puntual obligación de tener un sello o estampilla con letra de molde, que diga su apellido y la panga en las piezas que fabricare, con claridad para su reconocimiento, declarando la cantidad de liñuelos de que está fabricada, para saber su más o menos calidad, y las piezas de fuste las reconozcan para ver si es cierto el número que se le estampa y no se haga fraude, so pena al que de otra manera lo hiciere, le perderimiento de la dicha pieza o piezas, aplicado su valor para las partes susodichas.\n",
      "—Ítem, que las piezas que se remataren por la Justicia, que los veedores hallaren contra ordenanza, se les ponga sello que declare ser malas, para que el que las comprare no sea engañado, ni otros maliciosamente se valgan de este pretexto para vender otras de la misma manera, no estando selladas, so la pena arriba dicha.\n",
      "—Ítem, que todas las telas sin tejer, aprehendidas por los veedores por no estar en ordenanza según su calidad, la pongan en la Diputación para que se rematen, en la misma conformidad que la dicha ropa, con indicación expresa de que el Maestro que las comprare ha de añadirle los hilos o liñuelos que le faltaren, correspondientes a la calidad del tejido que fuere, lo cual ha de hacer dentro de tercero día, por evitar el que si lo visitaren los veedores no pueda valerse de la disculpa de haber comprado telas diminutas, y con esto tener el dicho Maestro dos sementales, maliciosamente, en su arobar; so la pena al que no lo hiciere dentro del dicho término, de cinco pesos de oro común y pérdida de la dicha tela, por evitar los fraudes que puedan haber.\n",
      "—Ítem, que las teleringas, hayan de tener la tela mil y veinte hilos de algodón, y el peine treseientos y cuarenta púas, a tres hilos por pua, y de ancho un docevelo menos de dos tercias, y los lianguines en (peine de treinta y cuatro liñuelos a tres hilos por pua, marca de media vara menos una pulgada, so la dicha pena.\n",
      "—Ítem, que los paños encuadrados, superfinos, se deban tejer y tejan en sese(n)ta liñuelos, en la marca de siete octavas de ancho y tres varas de largo.\n",
      "—Ítem, que los paños finos encuadrados, que son de menos calidad que los superfinos, se deban tejer y tejan en cincuenta y cinco liñuelos, en peines de treinta y dos en vara, marca de tres varas menos sexma de longitud, y vara menos sexma de latitud.\n",
      "—Ítem, que ningún Maestro examinado pueda tener ni tenga de los referidos paños, más de dos telares, por la experiencia que hay de que la abundancia de los dichos paños ha hecho medio novillo que no nos pueden tra-bajar en Ley y es engañado el público, so pena al que se hallare, de diez pesos de oro común y pérdida la tela que a más de los dos se hallare.\n",
      "—Ítem, que ningún Maestro pueda pasar ni pase de cuatro telares, con claridad que de paños solo puede tener dos, y dos de los demás tejidos, pena de diez pesos de oro común por la primera vez, y por la segunda la pena doblada y suspenso del oficio por dos años, y por la tercera privado del oficio.\n",
      "—Ítem, que los elefantes han de tejerse en veinte y siete liñuelos (en peine de veinte y siete liñuelos) en peine de veinte y cinco en vara, en marca de vara de ancho, so pena de cinco pesos de al que al contrario hiciere, aplicados por cuartas partes como dicho es.\n",
      "—Ítem, que ningún Maestro pueda amparar telares a ninguna persona ni personas, de cualquiera calidad o condición que sean, ni tener telares fuera de su casa, so pena de diez pesos de oro común y pérdida de telas y telares, aplicado su valor como dicho es por la primera vez, y por la segunda privado del oficio por los fraudes que pudà haber.\n",
      "—Ítem, que si se hallaren telares debaxo del algin oficial, se compela y obligue dentro de un breve término, a examinarse, dentro del cual no lo haciendo, se le quiten las telas y telares y se rematen en público por la Jus- ticia, repartido su valor como dicho es, para castigo de estos y escarmiento de otros.\n",
      "—Ítem, que sin embargo de lo ejecutoriado por el arte mayor, sobre la total exención de los tejidos mercadantas de seda y algodón, y de seda y hilo, qued parcir exprésa y peculiar ordenanza que ningun tejedor de algodón pues- da usar de los referidos tejidos de seda solo, por no ser perteneciente a ello usar de materia que no deben, sino de solo algodón, so pena de veinte y cinco pesos ( a mas de las penas impuestas por la Justicia) y pérdida de telas y telares, privado del oficio y desterrado de la Ciudad, para que no con el trans- curso del tiempo intente de nuevo introducirse en semejante abuso.\n",
      "—Ítem, que los Mayoralos que ahora son y en adelante fueren, no permitan que nigun tiexedor de algodón se introduzca en el arte mayor, ni pueda ser Maestro de él en ningún tiempo, sino que cada uno se sujete a su facultad, so pena de cincuenta pesos a los Mayoralos que al contrario hicierei, y privados de voz y voto en el Arte y nulo el examen que así se hiciere.\n",
      "—Ítem, que los Mayoralos y los visitadores frecuentemente, para ver si las obras estàn en ordenanza, y segùn la jurisdición que sobre los tejedores de algodón tiene el Arte mayor.\n",
      "declarado por la Justicia, caso que haya Veedores del Algodón, no puedan sino asistencia de los Mayoralos visitar por si ni hacer examen a ningún algodonero, so pena de veinte y cinco pesos a los tales Veeredores del algodón, y nula la visita o examen que sin la asistencia de los Mayoralos hicieren, aplicada dicha multa como dicho es.\n",
      "—Que no puedan tener ninguna Maestro tel omgido, más de dos apren- dices, el que fuere examinado, en un maestro, así como lo previenen las orde- nanzas del Arte mayor, aún a los maestros de dicho Arte, para evitar los daños y perjuicios que de lo contrario resultan al oficio y al público, y por la experiencia que hay de que por no pagar oficiales inteligentes en el algodón usan de aprendices, los cuales no hacen las obras en perfección, de que re- sultan muchos fraudes y engaños al común.\n",
      "—Ítem, que como remo que fuese por tenerse al Arte mayor, han de estar sujetos a las contribuciones que por los Mayoralos se les ordenaren, para la caja de dicho Arte, como el Arte mayor las acostumbra por sus ordenanzas, para gastos y litigios que contra los transgresores de dichas ordenanzas se ofrecen.\n",
      "—Ítem, que ningún Maestro pueda recibir aprendiz, sin que primero lo demuestre a los Mayoralos y al Escribano del Arte mayor, quien le reciba información de su calidad, y hecha que sea, se le haga escribir ante Escri- bano Público, so pena de diez pesos al que al contrario hiciera.\n",
      "—Ítem, que si se hallaren telares en casa de alguna persona que no sea del oficio, se saquen y trajan a la Diputación, y se quemen a la puer- ta del Juzgado, a fuego material, y las telas se vendan y rematen por la Justicia, aplicado su valor por cuartas partes como dicho es, sin que la per- sona o personas que los tuvieren se excepionen con pretexto alguno; con la pena a los Veeredores que esto se celaren, de diez pesos, aplicados como dicho es, y a los dueños, en peine de treinta en vara, por estar usuales y corrientes y ser la cuenta correspondiente al año.\n",
      "—Ítem, que se puedan tejer mantas de dos tercias, en cuenta de veinte y un cúeitloes, en peine de treinta en vara, por estar usuales y corrientes y ser la cuenta correspondiente al año.\n",
      "—Ítem, que las colchas abeleñacas, se tejan en telere de veinte y cua- tro en vara, la cara de dos tercias de ancho, y las de trabajo en peine de vein- te y dos en, marisma manera, so pena al cual contariare de pérdida de la tela y telar, aplicado su valor para las partes susodichas.\n",
      "—Item, que ninguna persona que no fuere del oficio, compre algodón para revenderlo, porque hay muchos regatones, en la Plaza ni fuera de ella, sino que los Maestros examinados para su obra, y que los tales tampoco compren para revenderlo, pena que por altere su regiso o precio, si pezma al que se cojere regateand, o perá, vida allá algún que su lo halle rayo do, penas de oro común, por la primer perá, y no al segundo desterrado de la Ciudad y privado de oficio si fuere tejedor, aplicada dicha pena como dicho es; y que los Vededores cejan y velen esto, pena de diez pesos.\n",
      "—Item, que ningún oficial del dicho oficio compre algodón antes que los Maestros examinados, que deben ser preferidos, para el avío de sus telares, y después compragen los Oficiales y no otra persona que no sea tejedor y se reconozca serlo retén, lo cual exento todos los Maestros examinados al algodón, y habiendo en esto algún exceso, los apriemien ante la Justicia del cuento a los Mayorales para que hécholes cargo, la Justicia los sentencie conforme a estas ordenanzas.\n",
      "—Item, que dada la oración no se compre ni venda algodón, por la experiencia que hay de muchas inconsecuencias que suceden y fraudes que se hacen, so pena de diez pesos, a mas de la pena que la Justicia les impusiere a los inobedientes, aplicada dicha multa para las partes susodichas.\n"
     ]
    }
   ],
   "source": [
    "i = 0\n",
    "\n",
    "# Convert string to list\n",
    "data_list = df['sentences'][i]\n",
    "\n",
    "# Print each entry in the list\n",
    "for entry in data_list:\n",
    "    print(entry)"
   ]
  },
  {
   "cell_type": "code",
   "execution_count": 15,
   "metadata": {},
   "outputs": [
    {
     "name": "stdout",
     "output_type": "stream",
     "text": [
      "Number of sentences in ordinance 0: 40\n",
      "Number of sentences in ordinance 1: 5\n",
      "Number of sentences in ordinance 2: 5\n",
      "Number of sentences in ordinance 3: 9\n",
      "Number of sentences in ordinance 4: 10\n",
      "Number of sentences in ordinance 5: 4\n",
      "Number of sentences in ordinance 6: 9\n",
      "Number of sentences in ordinance 7: 11\n",
      "Number of sentences in ordinance 8: 12\n",
      "Number of sentences in ordinance 9: 9\n",
      "Number of sentences in ordinance 10: 59\n",
      "Number of sentences in ordinance 11: 5\n",
      "Number of sentences in ordinance 12: 7\n",
      "Number of sentences in ordinance 13: 5\n",
      "Number of sentences in ordinance 14: 8\n",
      "Number of sentences in ordinance 15: 52\n",
      "Number of sentences in ordinance 16: 17\n",
      "Number of sentences in ordinance 17: 18\n",
      "Number of sentences in ordinance 18: 18\n",
      "Number of sentences in ordinance 19: 20\n",
      "Number of sentences in ordinance 20: 42\n",
      "Number of sentences in ordinance 21: 8\n",
      "Number of sentences in ordinance 22: 11\n",
      "Number of sentences in ordinance 23: 7\n",
      "Number of sentences in ordinance 24: 8\n",
      "Number of sentences in ordinance 25: 16\n",
      "Number of sentences in ordinance 26: 24\n",
      "Number of sentences in ordinance 27: 12\n",
      "Number of sentences in ordinance 28: 22\n",
      "Number of sentences in ordinance 29: 10\n",
      "Number of sentences in ordinance 30: 39\n",
      "Number of sentences in ordinance 31: 45\n",
      "Number of sentences in ordinance 32: 11\n",
      "Number of sentences in ordinance 33: 15\n",
      "Number of sentences in ordinance 34: 24\n",
      "Number of sentences in ordinance 35: 17\n",
      "Number of sentences in ordinance 36: 15\n",
      "Number of sentences in ordinance 37: 9\n",
      "Number of sentences in ordinance 38: 16\n",
      "Number of sentences in ordinance 39: 20\n",
      "Number of sentences in ordinance 40: 36\n",
      "Number of sentences in ordinance 41: 58\n",
      "Number of sentences in ordinance 42: 23\n",
      "Number of sentences in ordinance 43: 41\n",
      "Number of sentences in ordinance 44: 14\n",
      "Number of sentences in ordinance 45: 20\n",
      "Number of sentences in ordinance 46: 14\n",
      "Number of sentences in ordinance 47: 6\n",
      "Number of sentences in ordinance 48: 38\n",
      "Number of sentences in ordinance 49: 37\n",
      "Number of sentences in ordinance 50: 9\n",
      "Number of sentences in ordinance 51: 4\n",
      "Number of sentences in ordinance 52: 22\n",
      "Number of sentences in ordinance 53: 28\n"
     ]
    }
   ],
   "source": [
    "for i in range(len(df)):\n",
    "    # Convert string representation of list to an actual list\n",
    "    sentences_list = df['sentences'][i]\n",
    "    \n",
    "    # Print the number of sentences in each ordinance\n",
    "    print(f'Number of sentences in ordinance {i}: {len(sentences_list)}')"
   ]
  },
  {
   "cell_type": "markdown",
   "metadata": {},
   "source": [
    "# Compute average sentence length of dataset"
   ]
  },
  {
   "cell_type": "code",
   "execution_count": 16,
   "metadata": {},
   "outputs": [],
   "source": [
    "# Function to calculate average sentence length in words\n",
    "def avg_sentence_length(text):\n",
    "    sentences = text.split('.')\n",
    "    return np.mean([len(sentence.split()) for sentence in sentences if sentence.strip()])"
   ]
  },
  {
   "cell_type": "code",
   "execution_count": 17,
   "metadata": {},
   "outputs": [],
   "source": [
    "# Calculate average sentence length for each entry\n",
    "df['avg_sentence_length'] = df['cleaned_text'].apply(avg_sentence_length)\n",
    "\n",
    "# Calculate log of sentence length\n",
    "df['log_sentence_length'] = np.log(df['avg_sentence_length'])\n",
    "\n",
    "# Separate data for Mexico and Peru\n",
    "data = df['avg_sentence_length']\n",
    "mexico_data = df[df['country'] == 'mexico']['log_sentence_length']\n",
    "peru_data = df[df['country'] == 'peru']['log_sentence_length']\n",
    "\n",
    "# Calculate averages\n",
    "average_length = data.mean()\n",
    "mexico_avg = mexico_data.mean()\n",
    "peru_avg = peru_data.mean()"
   ]
  },
  {
   "cell_type": "code",
   "execution_count": 18,
   "metadata": {},
   "outputs": [
    {
     "data": {
      "text/html": [
       "<div>\n",
       "<style scoped>\n",
       "    .dataframe tbody tr th:only-of-type {\n",
       "        vertical-align: middle;\n",
       "    }\n",
       "\n",
       "    .dataframe tbody tr th {\n",
       "        vertical-align: top;\n",
       "    }\n",
       "\n",
       "    .dataframe thead th {\n",
       "        text-align: right;\n",
       "    }\n",
       "</style>\n",
       "<table border=\"1\" class=\"dataframe\">\n",
       "  <thead>\n",
       "    <tr style=\"text-align: right;\">\n",
       "      <th></th>\n",
       "      <th>country</th>\n",
       "      <th>year</th>\n",
       "      <th>guild</th>\n",
       "      <th>text</th>\n",
       "      <th>cleaned_text</th>\n",
       "      <th>sentences</th>\n",
       "      <th>sentence_count</th>\n",
       "      <th>century</th>\n",
       "      <th>word_count</th>\n",
       "      <th>avg_sentence_length</th>\n",
       "      <th>log_sentence_length</th>\n",
       "    </tr>\n",
       "  </thead>\n",
       "  <tbody>\n",
       "    <tr>\n",
       "      <th>0</th>\n",
       "      <td>mexico</td>\n",
       "      <td>1757</td>\n",
       "      <td>cotton-weavers</td>\n",
       "      <td>1.—Ordenanza primera. Primeramente, que las ma...</td>\n",
       "      <td>Primeramente, que las mantas ordinarias se han...</td>\n",
       "      <td>[Primeramente, que las mantas ordinarias se ha...</td>\n",
       "      <td>40</td>\n",
       "      <td>18</td>\n",
       "      <td>2351</td>\n",
       "      <td>56.023810</td>\n",
       "      <td>4.025777</td>\n",
       "    </tr>\n",
       "    <tr>\n",
       "      <th>1</th>\n",
       "      <td>mexico</td>\n",
       "      <td>1620</td>\n",
       "      <td>bakers</td>\n",
       "      <td>1.—Primeramente, antes todas cosas, todos los ...</td>\n",
       "      <td>—Primeramente, antes todas cosas, todos los pa...</td>\n",
       "      <td>[—Primeramente, antes todas cosas, todos los p...</td>\n",
       "      <td>5</td>\n",
       "      <td>17</td>\n",
       "      <td>496</td>\n",
       "      <td>99.200000</td>\n",
       "      <td>4.597138</td>\n",
       "    </tr>\n",
       "    <tr>\n",
       "      <th>2</th>\n",
       "      <td>mexico</td>\n",
       "      <td>1592</td>\n",
       "      <td>cloth-makers</td>\n",
       "      <td>1.— Que cualquiera persona de cualquiera calid...</td>\n",
       "      <td>— Que cualquiera persona de cualquiera calidad...</td>\n",
       "      <td>[— Que cualquiera persona de cualquiera calida...</td>\n",
       "      <td>5</td>\n",
       "      <td>16</td>\n",
       "      <td>733</td>\n",
       "      <td>146.600000</td>\n",
       "      <td>4.987708</td>\n",
       "    </tr>\n",
       "    <tr>\n",
       "      <th>3</th>\n",
       "      <td>mexico</td>\n",
       "      <td>1605</td>\n",
       "      <td>cloth-finishers</td>\n",
       "      <td>Primeramente que al principio de cada un año s...</td>\n",
       "      <td>Primeramente que al principio de cada un año s...</td>\n",
       "      <td>[Primeramente que al principio de cada un año ...</td>\n",
       "      <td>9</td>\n",
       "      <td>17</td>\n",
       "      <td>1362</td>\n",
       "      <td>151.333333</td>\n",
       "      <td>5.019485</td>\n",
       "    </tr>\n",
       "    <tr>\n",
       "      <th>4</th>\n",
       "      <td>mexico</td>\n",
       "      <td>1706</td>\n",
       "      <td>tallow</td>\n",
       "      <td>Primeramente, que en cada un año por principio...</td>\n",
       "      <td>Primeramente, que en cada un año por principio...</td>\n",
       "      <td>[Primeramente, que en cada un año por principi...</td>\n",
       "      <td>10</td>\n",
       "      <td>18</td>\n",
       "      <td>739</td>\n",
       "      <td>73.900000</td>\n",
       "      <td>4.302713</td>\n",
       "    </tr>\n",
       "  </tbody>\n",
       "</table>\n",
       "</div>"
      ],
      "text/plain": [
       "  country  year            guild  \\\n",
       "0  mexico  1757   cotton-weavers   \n",
       "1  mexico  1620           bakers   \n",
       "2  mexico  1592     cloth-makers   \n",
       "3  mexico  1605  cloth-finishers   \n",
       "4  mexico  1706           tallow   \n",
       "\n",
       "                                                text  \\\n",
       "0  1.—Ordenanza primera. Primeramente, que las ma...   \n",
       "1  1.—Primeramente, antes todas cosas, todos los ...   \n",
       "2  1.— Que cualquiera persona de cualquiera calid...   \n",
       "3  Primeramente que al principio de cada un año s...   \n",
       "4  Primeramente, que en cada un año por principio...   \n",
       "\n",
       "                                        cleaned_text  \\\n",
       "0  Primeramente, que las mantas ordinarias se han...   \n",
       "1  —Primeramente, antes todas cosas, todos los pa...   \n",
       "2  — Que cualquiera persona de cualquiera calidad...   \n",
       "3  Primeramente que al principio de cada un año s...   \n",
       "4  Primeramente, que en cada un año por principio...   \n",
       "\n",
       "                                           sentences  sentence_count  century  \\\n",
       "0  [Primeramente, que las mantas ordinarias se ha...              40       18   \n",
       "1  [—Primeramente, antes todas cosas, todos los p...               5       17   \n",
       "2  [— Que cualquiera persona de cualquiera calida...               5       16   \n",
       "3  [Primeramente que al principio de cada un año ...               9       17   \n",
       "4  [Primeramente, que en cada un año por principi...              10       18   \n",
       "\n",
       "   word_count  avg_sentence_length  log_sentence_length  \n",
       "0        2351            56.023810             4.025777  \n",
       "1         496            99.200000             4.597138  \n",
       "2         733           146.600000             4.987708  \n",
       "3        1362           151.333333             5.019485  \n",
       "4         739            73.900000             4.302713  "
      ]
     },
     "execution_count": 18,
     "metadata": {},
     "output_type": "execute_result"
    }
   ],
   "source": [
    "# View dataset with average sentence length\n",
    "df.head()"
   ]
  },
  {
   "cell_type": "markdown",
   "metadata": {},
   "source": [
    "# Two sample Welch-test to check if log-sentence length differs between Mexico and Peru\n",
    "Welch test assumes that the samples are normally distributed. It does the assumption that both sample have equal variances."
   ]
  },
  {
   "cell_type": "code",
   "execution_count": 19,
   "metadata": {},
   "outputs": [
    {
     "name": "stdout",
     "output_type": "stream",
     "text": [
      "Average sentence length for the whole dataset: 92.09258905489041\n",
      "Average log-sentence length for Mexico: 4.51\n",
      "Average log-sentence length for Peru: 4.41\n",
      "Welch's t-statistic: 0.7645\n",
      "P-value: 0.4514\n",
      "The difference in log-sentence length is not statistically significant.\n"
     ]
    }
   ],
   "source": [
    "print(f'Average sentence length for the whole dataset: {average_length}')\n",
    "print(f\"Average log-sentence length for Mexico: {mexico_avg:.2f}\")\n",
    "print(f\"Average log-sentence length for Peru: {peru_avg:.2f}\")\n",
    "\n",
    "# Perform Welch's t-test\n",
    "t_statistic, p_value = stats.ttest_ind(mexico_data, peru_data, equal_var=False)\n",
    "\n",
    "print(f\"Welch's t-statistic: {t_statistic:.4f}\")\n",
    "print(f\"P-value: {p_value:.4f}\")\n",
    "\n",
    "if p_value < 0.05:\n",
    "    print(\"The difference in log-sentence length is statistically significant.\")\n",
    "else:\n",
    "    print(\"The difference in log-sentence length is not statistically significant.\")"
   ]
  },
  {
   "cell_type": "code",
   "execution_count": null,
   "metadata": {},
   "outputs": [],
   "source": []
  },
  {
   "cell_type": "code",
   "execution_count": null,
   "metadata": {},
   "outputs": [],
   "source": []
  }
 ],
 "metadata": {
  "kernelspec": {
   "display_name": "guilds-nlp-env",
   "language": "python",
   "name": "python3"
  },
  "language_info": {
   "codemirror_mode": {
    "name": "ipython",
    "version": 3
   },
   "file_extension": ".py",
   "mimetype": "text/x-python",
   "name": "python",
   "nbconvert_exporter": "python",
   "pygments_lexer": "ipython3",
   "version": "3.9.18"
  }
 },
 "nbformat": 4,
 "nbformat_minor": 2
}
